{
 "cells": [
  {
   "cell_type": "code",
   "execution_count": 2,
   "metadata": {},
   "outputs": [],
   "source": [
    "import pandas as pd\n",
    "import numpy as np\n",
    "\n",
    "from scipy.stats import norm, chisquare, chi2, chi2_contingency\n",
    "\n",
    "import seaborn as sns\n",
    "import plotly.express as px\n",
    "import matplotlib.pyplot as plt\n",
    "\n",
    "from tqdm.auto import tqdm\n",
    "\n",
    "sns.set(rc={'figure.figsize':(15,10)}, style=\"whitegrid\")"
   ]
  },
  {
   "cell_type": "code",
   "execution_count": 3,
   "metadata": {},
   "outputs": [],
   "source": [
    "# Загрузка с яндекс-диска через dokpub работает нестабильно, поэтому\n",
    "# в комментариях оставлена загрузка из локальных файлов\n",
    "\n",
    "# файл с информацией о принадлежности пользователя к контрольной или экспериментальной группе \n",
    "# (А – контроль, B – целевая группа) \n",
    "groups = pd.read_csv('https://getfile.dokpub.com/yandex/get/https://disk.yandex.ru/d/58Us0DWOzuWAjg', sep=';')\n",
    "# groups = pd.read_csv('groups.csv', sep=';')\n",
    "        \n",
    "# дополнительный файл с пользователями, который вам прислали спустя 2 дня после передачи данных        \n",
    "groups_add = pd.read_csv('https://getfile.dokpub.com/yandex/get/https://disk.yandex.ru/d/3aARY-P9pfaksg')\n",
    "# groups_add = pd.read_csv('group_add.csv')\n",
    "        \n",
    "# файл с информацией о пользователях, которые зашли на платформу в дни проведения эксперимента        \n",
    "active_studs = pd.read_csv('https://getfile.dokpub.com/yandex/get/https://disk.yandex.ru/d/prbgU-rZpiXVYg')\n",
    "# active_studs = pd.read_csv('active_studs.csv')\n",
    "    \n",
    "# файл с информацией об оплатах пользователей в дни проведения эксперимента\n",
    "checks = pd.read_csv('https://getfile.dokpub.com/yandex/get/https://disk.yandex.ru/d/84hTmELphW2sqQ', sep=';')\n",
    "# checks = pd.read_csv('checks.csv', sep=';')"
   ]
  },
  {
   "cell_type": "markdown",
   "metadata": {},
   "source": [
    "Задание 1\n",
    "\n",
    "В ходе тестирования одной гипотезы целевой группе была предложена новая механика оплаты услуг на сайте, у контрольной группы оставалась базовая механика. В качестве задания Вам необходимо проанализировать итоги эксперимента и сделать вывод, стоит ли запускать новую механику оплаты на всех пользователей."
   ]
  },
  {
   "cell_type": "markdown",
   "metadata": {},
   "source": [
    "Вопросы для исследования:\n",
    "\n",
    "1. На какие метрики Вы смотрите в ходе анализа и почему?\n",
    "2. Имеются ли различия в показателях и с чем они могут быть связаны?\n",
    "3. Являются ли эти различия статистически значимыми?\n",
    "4. Стоит ли запускать новую механику на всех пользователей?\n",
    "5. Данный список вопросов не является обязательным, и Вы можете при своём ответе опираться на собственный план."
   ]
  },
  {
   "cell_type": "markdown",
   "metadata": {},
   "source": [
    "Дизайн АБ-теста предполагает выбор целевой метрики и статистической гипотезы на этапе проектирования. В данном случае ни целевая метрика, ни гипотеза нам неизвестны. Поэтому в данном случае, какой бы результат анализа ни получился, у нас нет оснований однозначно говорить о степени успешности эксперимента. Однако часть информации у нас есть и исходя из нее будем строить дальнейшие размышления и как итог получим предложение о возможности запуска новой механики при условии верности сделанных предположений."
   ]
  },
  {
   "cell_type": "markdown",
   "metadata": {},
   "source": [
    "Объектом тестирования служит механика оплаты услуг на сайте. \"Механика оплаты\" - это последовательность действий пользователя для совершения действия \"Оплата\", следовательно описывается метрикой \"Конверсия в оплату\" (далее - CR). CR является категориальным признаком и принимает значение True (1) для пользователей, совершивших целевое действие (\"Оплата\") и False (0) для остальных.\n",
    "\n",
    "Так как основной целевой метрикой принята конверсия в оплату, то сопутсвующими будут \"денежные\" метрики: ARPU (Average Revenue Per User - средний доход на пользователя как отношение общей суммы дохода к числу активных пользователей, под активным пользователем здесь и далее понимается пользователь, который зашел на платформу в дни проведения эксперимента) и ARPPU (Average Revenue Per Paying User - средний доход на платящего пользователя как отношение общей суммы дохода к числу платящих активных пользователей)."
   ]
  },
  {
   "cell_type": "markdown",
   "metadata": {},
   "source": [
    "Приступаем к анализу сырых данных. Посмотрим на группы, пропущенные значения, структуру."
   ]
  },
  {
   "cell_type": "code",
   "execution_count": 4,
   "metadata": {},
   "outputs": [
    {
     "name": "stdout",
     "output_type": "stream",
     "text": [
      "<class 'pandas.core.frame.DataFrame'>\n",
      "RangeIndex: 74484 entries, 0 to 74483\n",
      "Data columns (total 2 columns):\n",
      " #   Column  Non-Null Count  Dtype \n",
      "---  ------  --------------  ----- \n",
      " 0   id      74484 non-null  int64 \n",
      " 1   grp     74484 non-null  object\n",
      "dtypes: int64(1), object(1)\n",
      "memory usage: 1.1+ MB\n"
     ]
    }
   ],
   "source": [
    "groups.info()"
   ]
  },
  {
   "cell_type": "code",
   "execution_count": 5,
   "metadata": {},
   "outputs": [
    {
     "name": "stdout",
     "output_type": "stream",
     "text": [
      "<class 'pandas.core.frame.DataFrame'>\n",
      "RangeIndex: 92 entries, 0 to 91\n",
      "Data columns (total 2 columns):\n",
      " #   Column  Non-Null Count  Dtype \n",
      "---  ------  --------------  ----- \n",
      " 0   id      92 non-null     int64 \n",
      " 1   grp     92 non-null     object\n",
      "dtypes: int64(1), object(1)\n",
      "memory usage: 1.6+ KB\n"
     ]
    }
   ],
   "source": [
    "groups_add.info()"
   ]
  },
  {
   "cell_type": "markdown",
   "metadata": {},
   "source": [
    "Пропусков нет, названия колонок и типы данных совпадают, объединяем."
   ]
  },
  {
   "cell_type": "code",
   "execution_count": 6,
   "metadata": {},
   "outputs": [],
   "source": [
    "groups = pd.concat([groups, groups_add])"
   ]
  },
  {
   "cell_type": "code",
   "execution_count": 7,
   "metadata": {},
   "outputs": [
    {
     "data": {
      "text/plain": [
       "(74576, 2)"
      ]
     },
     "execution_count": 7,
     "metadata": {},
     "output_type": "execute_result"
    }
   ],
   "source": [
    "# Проверим объединение\n",
    "\n",
    "groups.shape"
   ]
  },
  {
   "cell_type": "code",
   "execution_count": 8,
   "metadata": {},
   "outputs": [
    {
     "data": {
      "text/html": [
       "<div>\n",
       "<style scoped>\n",
       "    .dataframe tbody tr th:only-of-type {\n",
       "        vertical-align: middle;\n",
       "    }\n",
       "\n",
       "    .dataframe tbody tr th {\n",
       "        vertical-align: top;\n",
       "    }\n",
       "\n",
       "    .dataframe thead th {\n",
       "        text-align: right;\n",
       "    }\n",
       "</style>\n",
       "<table border=\"1\" class=\"dataframe\">\n",
       "  <thead>\n",
       "    <tr style=\"text-align: right;\">\n",
       "      <th></th>\n",
       "      <th>id</th>\n",
       "      <th>grp</th>\n",
       "    </tr>\n",
       "  </thead>\n",
       "  <tbody>\n",
       "    <tr>\n",
       "      <th>0</th>\n",
       "      <td>1489</td>\n",
       "      <td>B</td>\n",
       "    </tr>\n",
       "    <tr>\n",
       "      <th>1</th>\n",
       "      <td>1627</td>\n",
       "      <td>A</td>\n",
       "    </tr>\n",
       "    <tr>\n",
       "      <th>2</th>\n",
       "      <td>1768</td>\n",
       "      <td>B</td>\n",
       "    </tr>\n",
       "    <tr>\n",
       "      <th>3</th>\n",
       "      <td>1783</td>\n",
       "      <td>B</td>\n",
       "    </tr>\n",
       "    <tr>\n",
       "      <th>4</th>\n",
       "      <td>1794</td>\n",
       "      <td>A</td>\n",
       "    </tr>\n",
       "  </tbody>\n",
       "</table>\n",
       "</div>"
      ],
      "text/plain": [
       "     id grp\n",
       "0  1489   B\n",
       "1  1627   A\n",
       "2  1768   B\n",
       "3  1783   B\n",
       "4  1794   A"
      ]
     },
     "execution_count": 8,
     "metadata": {},
     "output_type": "execute_result"
    }
   ],
   "source": [
    "groups.head()"
   ]
  },
  {
   "cell_type": "markdown",
   "metadata": {},
   "source": [
    "Посмотрим на размер групп."
   ]
  },
  {
   "cell_type": "code",
   "execution_count": 9,
   "metadata": {},
   "outputs": [
    {
     "data": {
      "text/plain": [
       "B    59883\n",
       "A    14693\n",
       "Name: grp, dtype: int64"
      ]
     },
     "execution_count": 9,
     "metadata": {},
     "output_type": "execute_result"
    }
   ],
   "source": [
    "groups.grp.value_counts()"
   ]
  },
  {
   "cell_type": "markdown",
   "metadata": {},
   "source": [
    "Контрольная группа довольно мала по сравнению с тестовой, что может быть причиной некорректной работы системы сплитования, но будем исходить из предположения, что система сплитования прогонялась через АА-тесты, а разница в группах обусловлена существенным изменением логики оплаты, которая \"ну точно ничего не сломает, а сам процесс оплаты сделает быстрее и проще\", однако \"мы внедряем experiment-driven культуру и потому оставим 20% пользователей со старой механикой\"."
   ]
  },
  {
   "cell_type": "markdown",
   "metadata": {},
   "source": [
    "Посмотрим на данные об активных студентах. Пропусков нет, тип данных соответсвует таблице groups и не противоречит самим данным."
   ]
  },
  {
   "cell_type": "code",
   "execution_count": 10,
   "metadata": {},
   "outputs": [
    {
     "name": "stdout",
     "output_type": "stream",
     "text": [
      "<class 'pandas.core.frame.DataFrame'>\n",
      "RangeIndex: 8341 entries, 0 to 8340\n",
      "Data columns (total 1 columns):\n",
      " #   Column      Non-Null Count  Dtype\n",
      "---  ------      --------------  -----\n",
      " 0   student_id  8341 non-null   int64\n",
      "dtypes: int64(1)\n",
      "memory usage: 65.3 KB\n"
     ]
    }
   ],
   "source": [
    "active_studs.info()"
   ]
  },
  {
   "cell_type": "code",
   "execution_count": 11,
   "metadata": {},
   "outputs": [
    {
     "data": {
      "text/html": [
       "<div>\n",
       "<style scoped>\n",
       "    .dataframe tbody tr th:only-of-type {\n",
       "        vertical-align: middle;\n",
       "    }\n",
       "\n",
       "    .dataframe tbody tr th {\n",
       "        vertical-align: top;\n",
       "    }\n",
       "\n",
       "    .dataframe thead th {\n",
       "        text-align: right;\n",
       "    }\n",
       "</style>\n",
       "<table border=\"1\" class=\"dataframe\">\n",
       "  <thead>\n",
       "    <tr style=\"text-align: right;\">\n",
       "      <th></th>\n",
       "      <th>student_id</th>\n",
       "    </tr>\n",
       "  </thead>\n",
       "  <tbody>\n",
       "    <tr>\n",
       "      <th>0</th>\n",
       "      <td>581585</td>\n",
       "    </tr>\n",
       "    <tr>\n",
       "      <th>1</th>\n",
       "      <td>5723133</td>\n",
       "    </tr>\n",
       "    <tr>\n",
       "      <th>2</th>\n",
       "      <td>3276743</td>\n",
       "    </tr>\n",
       "    <tr>\n",
       "      <th>3</th>\n",
       "      <td>4238589</td>\n",
       "    </tr>\n",
       "    <tr>\n",
       "      <th>4</th>\n",
       "      <td>4475369</td>\n",
       "    </tr>\n",
       "  </tbody>\n",
       "</table>\n",
       "</div>"
      ],
      "text/plain": [
       "   student_id\n",
       "0      581585\n",
       "1     5723133\n",
       "2     3276743\n",
       "3     4238589\n",
       "4     4475369"
      ]
     },
     "execution_count": 11,
     "metadata": {},
     "output_type": "execute_result"
    }
   ],
   "source": [
    "active_studs.head()"
   ]
  },
  {
   "cell_type": "markdown",
   "metadata": {},
   "source": [
    "Посмотрим на данные об оплатах."
   ]
  },
  {
   "cell_type": "code",
   "execution_count": 12,
   "metadata": {},
   "outputs": [
    {
     "name": "stdout",
     "output_type": "stream",
     "text": [
      "<class 'pandas.core.frame.DataFrame'>\n",
      "RangeIndex: 541 entries, 0 to 540\n",
      "Data columns (total 2 columns):\n",
      " #   Column      Non-Null Count  Dtype  \n",
      "---  ------      --------------  -----  \n",
      " 0   student_id  541 non-null    int64  \n",
      " 1   rev         541 non-null    float64\n",
      "dtypes: float64(1), int64(1)\n",
      "memory usage: 8.6 KB\n"
     ]
    }
   ],
   "source": [
    "checks.info()"
   ]
  },
  {
   "cell_type": "code",
   "execution_count": 13,
   "metadata": {},
   "outputs": [
    {
     "data": {
      "text/html": [
       "<div>\n",
       "<style scoped>\n",
       "    .dataframe tbody tr th:only-of-type {\n",
       "        vertical-align: middle;\n",
       "    }\n",
       "\n",
       "    .dataframe tbody tr th {\n",
       "        vertical-align: top;\n",
       "    }\n",
       "\n",
       "    .dataframe thead th {\n",
       "        text-align: right;\n",
       "    }\n",
       "</style>\n",
       "<table border=\"1\" class=\"dataframe\">\n",
       "  <thead>\n",
       "    <tr style=\"text-align: right;\">\n",
       "      <th></th>\n",
       "      <th>student_id</th>\n",
       "      <th>rev</th>\n",
       "    </tr>\n",
       "  </thead>\n",
       "  <tbody>\n",
       "    <tr>\n",
       "      <th>0</th>\n",
       "      <td>1627</td>\n",
       "      <td>990.0</td>\n",
       "    </tr>\n",
       "    <tr>\n",
       "      <th>1</th>\n",
       "      <td>3185</td>\n",
       "      <td>690.0</td>\n",
       "    </tr>\n",
       "    <tr>\n",
       "      <th>2</th>\n",
       "      <td>25973</td>\n",
       "      <td>690.0</td>\n",
       "    </tr>\n",
       "    <tr>\n",
       "      <th>3</th>\n",
       "      <td>26280</td>\n",
       "      <td>690.0</td>\n",
       "    </tr>\n",
       "    <tr>\n",
       "      <th>4</th>\n",
       "      <td>100300</td>\n",
       "      <td>990.0</td>\n",
       "    </tr>\n",
       "  </tbody>\n",
       "</table>\n",
       "</div>"
      ],
      "text/plain": [
       "   student_id    rev\n",
       "0        1627  990.0\n",
       "1        3185  690.0\n",
       "2       25973  690.0\n",
       "3       26280  690.0\n",
       "4      100300  990.0"
      ]
     },
     "execution_count": 13,
     "metadata": {},
     "output_type": "execute_result"
    }
   ],
   "source": [
    "checks.head()"
   ]
  },
  {
   "cell_type": "markdown",
   "metadata": {},
   "source": [
    "Поле с суммой оплаты rev имеет десятичный формат, что в целом оправдано для данного вида данных, однако посмотрим детальнее."
   ]
  },
  {
   "cell_type": "code",
   "execution_count": 14,
   "metadata": {},
   "outputs": [
    {
     "data": {
      "text/plain": [
       "1900.0001    36\n",
       "Name: rev, dtype: int64"
      ]
     },
     "execution_count": 14,
     "metadata": {},
     "output_type": "execute_result"
    }
   ],
   "source": [
    "# Десятичный формат применен из-за 36 значений 1900.0001. \n",
    "# Это следствие эксперимента или просто ошибка округления? \n",
    "# Посмотрим ниже\n",
    "\n",
    "checks[checks.rev%1 > 0].rev.value_counts()"
   ]
  },
  {
   "cell_type": "code",
   "execution_count": 15,
   "metadata": {},
   "outputs": [],
   "source": [
    "# Сформируем рабочий датафрейм, основой которого будут активные пользователи, поэтому \n",
    "# пересекаем с groups через inner join и подгружаем через left оплаты из checks\n",
    "\n",
    "df_active = groups.merge(active_studs, how='inner', left_on='id', right_on='student_id') \\\n",
    "                  .merge(checks, how='left', on='student_id') \\\n",
    "                  .drop(columns=['student_id'])"
   ]
  },
  {
   "cell_type": "code",
   "execution_count": 16,
   "metadata": {},
   "outputs": [
    {
     "data": {
      "text/html": [
       "<div>\n",
       "<style scoped>\n",
       "    .dataframe tbody tr th:only-of-type {\n",
       "        vertical-align: middle;\n",
       "    }\n",
       "\n",
       "    .dataframe tbody tr th {\n",
       "        vertical-align: top;\n",
       "    }\n",
       "\n",
       "    .dataframe thead th {\n",
       "        text-align: right;\n",
       "    }\n",
       "</style>\n",
       "<table border=\"1\" class=\"dataframe\">\n",
       "  <thead>\n",
       "    <tr style=\"text-align: right;\">\n",
       "      <th></th>\n",
       "      <th>id</th>\n",
       "      <th>grp</th>\n",
       "      <th>rev</th>\n",
       "      <th>converted</th>\n",
       "    </tr>\n",
       "  </thead>\n",
       "  <tbody>\n",
       "    <tr>\n",
       "      <th>0</th>\n",
       "      <td>1627</td>\n",
       "      <td>A</td>\n",
       "      <td>990.0</td>\n",
       "      <td>True</td>\n",
       "    </tr>\n",
       "    <tr>\n",
       "      <th>1</th>\n",
       "      <td>2085</td>\n",
       "      <td>B</td>\n",
       "      <td>NaN</td>\n",
       "      <td>False</td>\n",
       "    </tr>\n",
       "    <tr>\n",
       "      <th>2</th>\n",
       "      <td>2215</td>\n",
       "      <td>B</td>\n",
       "      <td>NaN</td>\n",
       "      <td>False</td>\n",
       "    </tr>\n",
       "    <tr>\n",
       "      <th>3</th>\n",
       "      <td>3391</td>\n",
       "      <td>A</td>\n",
       "      <td>NaN</td>\n",
       "      <td>False</td>\n",
       "    </tr>\n",
       "    <tr>\n",
       "      <th>4</th>\n",
       "      <td>3401</td>\n",
       "      <td>B</td>\n",
       "      <td>NaN</td>\n",
       "      <td>False</td>\n",
       "    </tr>\n",
       "    <tr>\n",
       "      <th>...</th>\n",
       "      <td>...</td>\n",
       "      <td>...</td>\n",
       "      <td>...</td>\n",
       "      <td>...</td>\n",
       "    </tr>\n",
       "    <tr>\n",
       "      <th>8336</th>\n",
       "      <td>5760471</td>\n",
       "      <td>B</td>\n",
       "      <td>NaN</td>\n",
       "      <td>False</td>\n",
       "    </tr>\n",
       "    <tr>\n",
       "      <th>8337</th>\n",
       "      <td>5777081</td>\n",
       "      <td>B</td>\n",
       "      <td>NaN</td>\n",
       "      <td>False</td>\n",
       "    </tr>\n",
       "    <tr>\n",
       "      <th>8338</th>\n",
       "      <td>5870856</td>\n",
       "      <td>A</td>\n",
       "      <td>NaN</td>\n",
       "      <td>False</td>\n",
       "    </tr>\n",
       "    <tr>\n",
       "      <th>8339</th>\n",
       "      <td>5945085</td>\n",
       "      <td>B</td>\n",
       "      <td>NaN</td>\n",
       "      <td>False</td>\n",
       "    </tr>\n",
       "    <tr>\n",
       "      <th>8340</th>\n",
       "      <td>5951797</td>\n",
       "      <td>B</td>\n",
       "      <td>NaN</td>\n",
       "      <td>False</td>\n",
       "    </tr>\n",
       "  </tbody>\n",
       "</table>\n",
       "<p>8341 rows × 4 columns</p>\n",
       "</div>"
      ],
      "text/plain": [
       "           id grp    rev  converted\n",
       "0        1627   A  990.0       True\n",
       "1        2085   B    NaN      False\n",
       "2        2215   B    NaN      False\n",
       "3        3391   A    NaN      False\n",
       "4        3401   B    NaN      False\n",
       "...       ...  ..    ...        ...\n",
       "8336  5760471   B    NaN      False\n",
       "8337  5777081   B    NaN      False\n",
       "8338  5870856   A    NaN      False\n",
       "8339  5945085   B    NaN      False\n",
       "8340  5951797   B    NaN      False\n",
       "\n",
       "[8341 rows x 4 columns]"
      ]
     },
     "execution_count": 16,
     "metadata": {},
     "output_type": "execute_result"
    }
   ],
   "source": [
    "# Добавим флаг конвертации в оплату\n",
    "\n",
    "df_active['converted'] = ~df_active.rev.isna()\n",
    "df_active"
   ]
  },
  {
   "cell_type": "code",
   "execution_count": 17,
   "metadata": {},
   "outputs": [
    {
     "data": {
      "text/plain": [
       "0"
      ]
     },
     "execution_count": 17,
     "metadata": {},
     "output_type": "execute_result"
    }
   ],
   "source": [
    "# Дублей нет\n",
    "\n",
    "df_active.duplicated(subset=['id']).sum()"
   ]
  },
  {
   "cell_type": "markdown",
   "metadata": {},
   "source": [
    "Выполним проверку на несоответсвие соотношения выборок (sample ratio mismatch), для чего проверим нулевую гипотезу о соответствии частот категориальных переменных в выборках: применим тест хи-квадрат (вариацию goodness-of-fit, реализованную в функции chisquare библиотеки scipy). \n",
    "\n",
    "Так как снова параметры эксперимента нам неизвестны, то посмотрим на доли каждой группы в исходных данных. Они близки к пропорциям 20/80. Тогда ожидаемое (expected) число наблюдений по группам равно числу наблюдений в выборке df_active, умноженному на 0.2 и 0.8 соответственно. Эти данные и проверим через вышеозначенный тест.\n",
    "\n",
    "H0: доля частот переменной \"Группа эксперимента\" в выборке с активными пользователями (df_active) равна пропорциям 20/80.\n",
    "H1: доли частот не равны не равна 20/80.\n",
    "\n",
    "chisquare при получении на вход параметров f_obs (массив наблюдаемых частот), f_exp (массив ожидаемых частот) проверяет соответствие частот. f_obs - фактическое число активных студентов в группах. f_exp - массив из [общее число активных студентов, умноженное на 0.2, общее число активных студентов, умноженное на 0.8]\n",
    "\n",
    "Здесь важно сделать оговорку о том, на каком уровне значимости мы будем отвергать H0. 0.05 для SRM кажется очень большим (5% ошибки первого рода для отбраковки всего эксперимента - очень много). Примем за альфу = 0.001. Возможно и этот уровень высокий, но это уже надо решать вместе с продактом."
   ]
  },
  {
   "cell_type": "code",
   "execution_count": 18,
   "metadata": {},
   "outputs": [
    {
     "data": {
      "text/plain": [
       "B    0.80298\n",
       "A    0.19702\n",
       "Name: grp, dtype: float64"
      ]
     },
     "execution_count": 18,
     "metadata": {},
     "output_type": "execute_result"
    }
   ],
   "source": [
    "# Пропорйции наблюдений по группам\n",
    "\n",
    "groups.grp.value_counts(normalize=True)"
   ]
  },
  {
   "cell_type": "code",
   "execution_count": 19,
   "metadata": {},
   "outputs": [
    {
     "data": {
      "text/plain": [
       "1668"
      ]
     },
     "execution_count": 19,
     "metadata": {},
     "output_type": "execute_result"
    }
   ],
   "source": [
    "# Ожидаемое число студентов в группе А\n",
    "\n",
    "a_exp = int(round(df_active.grp.value_counts().sum() * 0.2, 0))\n",
    "a_exp"
   ]
  },
  {
   "cell_type": "code",
   "execution_count": 20,
   "metadata": {},
   "outputs": [
    {
     "data": {
      "text/plain": [
       "6673"
      ]
     },
     "execution_count": 20,
     "metadata": {},
     "output_type": "execute_result"
    }
   ],
   "source": [
    "# Ожидаемое число студентов в группе В можно посчитать аналогично, однако есть риск поймать ошибку округления\n",
    "# Поэтому ожидаемое число студентов в группе В примем за разность общего числа студентов \n",
    "# и ожидаемого числа студентов в группе А\n",
    "\n",
    "b_exp = df_active.shape[0] - a_exp\n",
    "b_exp"
   ]
  },
  {
   "cell_type": "code",
   "execution_count": 21,
   "metadata": {},
   "outputs": [
    {
     "data": {
      "text/plain": [
       "[1668, 6673]"
      ]
     },
     "execution_count": 21,
     "metadata": {},
     "output_type": "execute_result"
    }
   ],
   "source": [
    "# Такие размеры групп мы ожидаем при соответсвии распределнию частот в исходной группе\n",
    "\n",
    "expected = [a_exp, b_exp]\n",
    "expected"
   ]
  },
  {
   "cell_type": "code",
   "execution_count": 22,
   "metadata": {},
   "outputs": [
    {
     "data": {
      "text/plain": [
       "[1538, 6803]"
      ]
     },
     "execution_count": 22,
     "metadata": {},
     "output_type": "execute_result"
    }
   ],
   "source": [
    "# Это фактически наблюдаемые значения распределения частот\n",
    "\n",
    "observed = [df_active.grp.value_counts()['A'],\n",
    "            df_active.grp.value_counts()['B']]\n",
    "observed"
   ]
  },
  {
   "cell_type": "code",
   "execution_count": 23,
   "metadata": {},
   "outputs": [
    {
     "data": {
      "text/plain": [
       "Power_divergenceResult(statistic=12.664488520078587, pvalue=0.0003726664655524767)"
      ]
     },
     "execution_count": 23,
     "metadata": {},
     "output_type": "execute_result"
    }
   ],
   "source": [
    "chisquare(f_obs=observed, f_exp=expected)"
   ]
  },
  {
   "cell_type": "markdown",
   "metadata": {},
   "source": [
    "Итак, мы отвергаем нулевую гипотезу о равенстве частот в выборках на уровне 0.001 и принимаем альтернативную гипотезу, а значит у нас есть основания говорить о том, что наблюдаются статистически значимые различия в пропорциях групп после эксперимента. Следовательно выборки не репрезентативны и мы получаем первый вывод:\n",
    "- Результаты эксперимента не могут быть приняты."
   ]
  },
  {
   "cell_type": "markdown",
   "metadata": {},
   "source": [
    "Что делать дальше? Данных в эксперименте много и нужно снять промежуточные метрики, чтобы проверить, точно ли ничего не просело и не сломалось и возможно поднять вопрос о продолжении эксперимента до выравнивания групп."
   ]
  },
  {
   "cell_type": "code",
   "execution_count": 24,
   "metadata": {},
   "outputs": [
    {
     "data": {
      "text/html": [
       "<div>\n",
       "<style scoped>\n",
       "    .dataframe tbody tr th:only-of-type {\n",
       "        vertical-align: middle;\n",
       "    }\n",
       "\n",
       "    .dataframe tbody tr th {\n",
       "        vertical-align: top;\n",
       "    }\n",
       "\n",
       "    .dataframe thead th {\n",
       "        text-align: right;\n",
       "    }\n",
       "</style>\n",
       "<table border=\"1\" class=\"dataframe\">\n",
       "  <thead>\n",
       "    <tr style=\"text-align: right;\">\n",
       "      <th></th>\n",
       "      <th>CR</th>\n",
       "      <th>ARPU</th>\n",
       "      <th>ARPPU</th>\n",
       "    </tr>\n",
       "    <tr>\n",
       "      <th>grp</th>\n",
       "      <th></th>\n",
       "      <th></th>\n",
       "      <th></th>\n",
       "    </tr>\n",
       "  </thead>\n",
       "  <tbody>\n",
       "    <tr>\n",
       "      <th>A</th>\n",
       "      <td>0.050715</td>\n",
       "      <td>47.35</td>\n",
       "      <td>933.59</td>\n",
       "    </tr>\n",
       "    <tr>\n",
       "      <th>B</th>\n",
       "      <td>0.046156</td>\n",
       "      <td>58.06</td>\n",
       "      <td>1257.88</td>\n",
       "    </tr>\n",
       "  </tbody>\n",
       "</table>\n",
       "</div>"
      ],
      "text/plain": [
       "           CR   ARPU    ARPPU\n",
       "grp                          \n",
       "A    0.050715  47.35   933.59\n",
       "B    0.046156  58.06  1257.88"
      ]
     },
     "execution_count": 24,
     "metadata": {},
     "output_type": "execute_result"
    }
   ],
   "source": [
    "# Выделим метрики\n",
    "\n",
    "metrics = df_active.groupby('grp').agg({'converted': lambda x: sum(x)/len(x),\n",
    "                                                        'rev': [lambda x: round(sum(x.fillna(0))/len(x), 2),\n",
    "                                                                lambda x: round(sum(x.dropna())/len(x.dropna()), 2)]})\n",
    "metrics.columns = metrics.columns.get_level_values(1)\n",
    "metrics = metrics.rename(columns={'<lambda>': 'CR', '<lambda_0>': 'ARPU', '<lambda_1>': 'ARPPU'})\n",
    "metrics"
   ]
  },
  {
   "cell_type": "code",
   "execution_count": 25,
   "metadata": {},
   "outputs": [
    {
     "data": {
      "text/plain": [
       "CR       -9.0\n",
       "ARPU     22.6\n",
       "ARPPU    34.7\n",
       "dtype: float64"
      ]
     },
     "execution_count": 25,
     "metadata": {},
     "output_type": "execute_result"
    }
   ],
   "source": [
    "# Оценим изменение метрик в %\n",
    "\n",
    "(metrics.loc['B']/metrics.loc['A']).mul(100).round(1)-100"
   ]
  },
  {
   "cell_type": "markdown",
   "metadata": {},
   "source": [
    "Конверсия в тестовой группе \"упала\" на 9%, однако существенно \"выросли\" ARPU (на 22.6%) и ARPPU (на 34.7%). Посмотрим, насколько это стат значимые изменения. Проверять будем на уровне альфа = 0.05."
   ]
  },
  {
   "cell_type": "markdown",
   "metadata": {},
   "source": [
    "Оценка значимости изменения конверсии.\n",
    "\n",
    "Мы снова имеем дело с категориальной перменной, а значит снова будем применять хи-квадрат, однако уже другую вариацию: chi2_contingency для проверки нулевой гипотезы об отсутствии зависимости конверсии от группы эксперимента.\n",
    "\n",
    "H0: нет существенной разницы между числом конверсий в группах \n",
    "H1: наблюдается существенная разница между числом конверсий в группах"
   ]
  },
  {
   "cell_type": "code",
   "execution_count": 26,
   "metadata": {},
   "outputs": [
    {
     "data": {
      "text/html": [
       "<div>\n",
       "<style scoped>\n",
       "    .dataframe tbody tr th:only-of-type {\n",
       "        vertical-align: middle;\n",
       "    }\n",
       "\n",
       "    .dataframe tbody tr th {\n",
       "        vertical-align: top;\n",
       "    }\n",
       "\n",
       "    .dataframe thead th {\n",
       "        text-align: right;\n",
       "    }\n",
       "</style>\n",
       "<table border=\"1\" class=\"dataframe\">\n",
       "  <thead>\n",
       "    <tr style=\"text-align: right;\">\n",
       "      <th>grp</th>\n",
       "      <th>A</th>\n",
       "      <th>B</th>\n",
       "    </tr>\n",
       "    <tr>\n",
       "      <th>converted</th>\n",
       "      <th></th>\n",
       "      <th></th>\n",
       "    </tr>\n",
       "  </thead>\n",
       "  <tbody>\n",
       "    <tr>\n",
       "      <th>False</th>\n",
       "      <td>1460</td>\n",
       "      <td>6489</td>\n",
       "    </tr>\n",
       "    <tr>\n",
       "      <th>True</th>\n",
       "      <td>78</td>\n",
       "      <td>314</td>\n",
       "    </tr>\n",
       "  </tbody>\n",
       "</table>\n",
       "</div>"
      ],
      "text/plain": [
       "grp           A     B\n",
       "converted            \n",
       "False      1460  6489\n",
       "True         78   314"
      ]
     },
     "execution_count": 26,
     "metadata": {},
     "output_type": "execute_result"
    }
   ],
   "source": [
    "pd.crosstab(df_active.converted, df_active.grp)"
   ]
  },
  {
   "cell_type": "code",
   "execution_count": 27,
   "metadata": {},
   "outputs": [
    {
     "data": {
      "text/plain": [
       "(0.5821513741106591, 0.44547028437158964)"
      ]
     },
     "execution_count": 27,
     "metadata": {},
     "output_type": "execute_result"
    }
   ],
   "source": [
    "stat, p, dof, expected = chi2_contingency(pd.crosstab(df_active.converted, df_active.grp), correction=False)\n",
    "stat, p"
   ]
  },
  {
   "cell_type": "code",
   "execution_count": 28,
   "metadata": {},
   "outputs": [
    {
     "name": "stdout",
     "output_type": "stream",
     "text": [
      "Не отклоняем H0\n"
     ]
    }
   ],
   "source": [
    "prob = 0.95\n",
    "critical = chi2.ppf(prob, dof)\n",
    "if abs(stat) >= critical:\n",
    "    print('Отклоняем H0')\n",
    "else:\n",
    "    print('Не отклоняем H0')"
   ]
  },
  {
   "cell_type": "code",
   "execution_count": 29,
   "metadata": {},
   "outputs": [
    {
     "name": "stdout",
     "output_type": "stream",
     "text": [
      "Не отклоняем H0\n"
     ]
    }
   ],
   "source": [
    "prob = 0.95\n",
    "alpha = 1.0 - prob\n",
    "if p <= alpha:\n",
    "    print('Отклоняем H0')\n",
    "else:\n",
    "    print('Не отклоняем H0')"
   ]
  },
  {
   "cell_type": "markdown",
   "metadata": {},
   "source": [
    "Полученое значение p > 0.05, следовательно нет оснований отклонять нулевю гипотезу о зависимости конверсии от группы эксперимента. На уровне значимости 0.05 статистически значимой зависимости в конверсиях между группами не наблюдается, делаем вывод:\n",
    "\n",
    "- Конверсия в группах значимо не различается"
   ]
  },
  {
   "cell_type": "markdown",
   "metadata": {},
   "source": [
    "Проанализируем ARPU"
   ]
  },
  {
   "cell_type": "markdown",
   "metadata": {},
   "source": [
    "Ранее мы отмечали наличие ряда наблюдений со странной дробной частью \"1900.0001\". Посмотрим поближе."
   ]
  },
  {
   "cell_type": "code",
   "execution_count": 30,
   "metadata": {},
   "outputs": [
    {
     "data": {
      "text/plain": [
       "B    35\n",
       "Name: grp, dtype: int64"
      ]
     },
     "execution_count": 30,
     "metadata": {},
     "output_type": "execute_result"
    }
   ],
   "source": [
    "# Все 35 наблюдений принадлежат тестовой группе. Подсвечиваем этот момент.\n",
    "\n",
    "df_active.query('rev == 1900.0001').grp.value_counts()"
   ]
  },
  {
   "cell_type": "markdown",
   "metadata": {},
   "source": [
    "Так как тестируется изменение механики оплаты и в тестовой группе наблюдаются значения со странной дробной частью, то делаем следующий вывод:\n",
    "- Проверить корректность работы новой логики. Наблюдаются значения оплаты с дробной частью \".0001\""
   ]
  },
  {
   "cell_type": "code",
   "execution_count": 31,
   "metadata": {},
   "outputs": [
    {
     "data": {
      "text/html": [
       "<div>\n",
       "<style scoped>\n",
       "    .dataframe tbody tr th:only-of-type {\n",
       "        vertical-align: middle;\n",
       "    }\n",
       "\n",
       "    .dataframe tbody tr th {\n",
       "        vertical-align: top;\n",
       "    }\n",
       "\n",
       "    .dataframe thead th {\n",
       "        text-align: right;\n",
       "    }\n",
       "</style>\n",
       "<table border=\"1\" class=\"dataframe\">\n",
       "  <thead>\n",
       "    <tr style=\"text-align: right;\">\n",
       "      <th></th>\n",
       "      <th>rev</th>\n",
       "    </tr>\n",
       "    <tr>\n",
       "      <th>grp</th>\n",
       "      <th></th>\n",
       "    </tr>\n",
       "  </thead>\n",
       "  <tbody>\n",
       "    <tr>\n",
       "      <th>A</th>\n",
       "      <td>47.347204</td>\n",
       "    </tr>\n",
       "    <tr>\n",
       "      <th>B</th>\n",
       "      <td>58.058798</td>\n",
       "    </tr>\n",
       "  </tbody>\n",
       "</table>\n",
       "</div>"
      ],
      "text/plain": [
       "           rev\n",
       "grp           \n",
       "A    47.347204\n",
       "B    58.058798"
      ]
     },
     "execution_count": 31,
     "metadata": {},
     "output_type": "execute_result"
    }
   ],
   "source": [
    "# Непосредственно ARPU\n",
    "\n",
    "df_active.fillna(0).groupby('grp').agg({'rev': 'mean'})"
   ]
  },
  {
   "cell_type": "markdown",
   "metadata": {},
   "source": [
    "Выберем статистический оценщик для анализа значимости различий между средним ARPU в группах."
   ]
  },
  {
   "cell_type": "code",
   "execution_count": 32,
   "metadata": {},
   "outputs": [
    {
     "data": {
      "text/plain": [
       "<matplotlib.axes._subplots.AxesSubplot at 0x7f5220230390>"
      ]
     },
     "execution_count": 32,
     "metadata": {},
     "output_type": "execute_result"
    },
    {
     "data": {
      "image/png": "[encoded data removed]",
      "text/plain": [
       "<Figure size 1080x720 with 1 Axes>"
      ]
     },
     "metadata": {},
     "output_type": "display_data"
    }
   ],
   "source": [
    "# Посмотрим на распределение оплат в группах\n",
    "\n",
    "sns.boxplot(x=df_active['grp'], y=df_active['rev'])"
   ]
  },
  {
   "cell_type": "code",
   "execution_count": 33,
   "metadata": {},
   "outputs": [
    {
     "name": "stderr",
     "output_type": "stream",
     "text": [
      "/opt/tljh/user/lib/python3.7/site-packages/seaborn/distributions.py:2557: FutureWarning: `distplot` is a deprecated function and will be removed in a future version. Please adapt your code to use either `displot` (a figure-level function with similar flexibility) or `histplot` (an axes-level function for histograms).\n",
      "  warnings.warn(msg, FutureWarning)\n",
      "/opt/tljh/user/lib/python3.7/site-packages/seaborn/distributions.py:2557: FutureWarning: `distplot` is a deprecated function and will be removed in a future version. Please adapt your code to use either `displot` (a figure-level function with similar flexibility) or `histplot` (an axes-level function for histograms).\n",
      "  warnings.warn(msg, FutureWarning)\n"
     ]
    },
    {
     "data": {
      "text/plain": [
       "<matplotlib.axes._subplots.AxesSubplot at 0x7f51c45f67b8>"
      ]
     },
     "execution_count": 33,
     "metadata": {},
     "output_type": "execute_result"
    },
    {
     "data": {
      "image/png": "[encoded data removed]",
      "text/plain": [
       "<Figure size 1080x720 with 1 Axes>"
      ]
     },
     "metadata": {},
     "output_type": "display_data"
    }
   ],
   "source": [
    "# Посмотрим на распределение оплат в группах\n",
    "\n",
    "sns.distplot(df_active[df_active['grp'] == 'A'].rev)\n",
    "sns.distplot(df_active[df_active['grp'] == 'B'].rev)"
   ]
  },
  {
   "cell_type": "markdown",
   "metadata": {},
   "source": [
    "В группе В наблюдается существенное изменение параметров распределения - ярко выраженная бимодальность. Помимо этого t-критерий Стьюдента и u-критерий Манна-Уитни чувствительны к дисбалансу в выборках (https://stats.stackexchange.com/questions/40342/mann-whitney-u-test-with-unequal-sample-sizes , и https://stats.stackexchange.com/questions/31326/how-should-one-interpret-the-comparison-of-means-from-different-sample-sizes/31330#31330). \n",
    "\n",
    "В связи с этим принимаем решение использовать bootstrap."
   ]
  },
  {
   "cell_type": "code",
   "execution_count": 34,
   "metadata": {},
   "outputs": [],
   "source": [
    "# Сплагиатим функцию с курса по статистике\n",
    "\n",
    "def get_bootstrap(\n",
    "    data_column_1, # числовые значения первой выборки\n",
    "    data_column_2, # числовые значения второй выборки\n",
    "    boot_it = 1000, # количество бутстрэп-подвыборок\n",
    "    statistic = np.mean, # интересующая нас статистика\n",
    "    bootstrap_conf_level = 0.95, # уровень значимости\n",
    "    plot = True # флаг, указывающий на необходимость вывода прогресс-бара и блока визуализации\n",
    "):\n",
    "    boot_len = max([len(data_column_1), len(data_column_2)])\n",
    "    boot_data = []\n",
    "    for i in tqdm(range(boot_it), disable = not(plot)): # извлекаем подвыборки\n",
    "        samples_1 = data_column_1.sample(\n",
    "            boot_len, \n",
    "            replace = True # параметр возвращения\n",
    "        ).values\n",
    "        \n",
    "        samples_2 = data_column_2.sample(\n",
    "            boot_len, \n",
    "            replace = True\n",
    "        ).values\n",
    "        \n",
    "        boot_data.append(statistic(samples_1-samples_2)) # mean() - применяем статистику\n",
    "        \n",
    "    pd_boot_data = pd.DataFrame(boot_data)\n",
    "        \n",
    "    left_quant = (1 - bootstrap_conf_level)/2\n",
    "    right_quant = 1 - (1 - bootstrap_conf_level) / 2\n",
    "    ci = pd_boot_data.quantile([left_quant, right_quant])\n",
    "        \n",
    "    p_1 = norm.cdf(\n",
    "        x = 0, \n",
    "        loc = np.mean(boot_data), \n",
    "        scale = np.std(boot_data)\n",
    "    )\n",
    "    p_2 = norm.cdf(\n",
    "        x = 0, \n",
    "        loc = -np.mean(boot_data), \n",
    "        scale = np.std(boot_data)\n",
    "    )\n",
    "    p_value = min(p_1, p_2) * 2\n",
    "        \n",
    "    # Визуализация\n",
    "    if plot:\n",
    "        plt.hist(pd_boot_data[0], bins = 50)\n",
    "\n",
    "        plt.style.use('ggplot')\n",
    "        plt.vlines(ci,ymin=0,ymax=50,linestyle='--')\n",
    "        plt.xlabel('boot_data')\n",
    "        plt.ylabel('frequency')\n",
    "        plt.title(\"Histogram of boot_data\")\n",
    "        plt.show()\n",
    "       \n",
    "    return {\"boot_data\": boot_data, \n",
    "            \"ci\": ci, \n",
    "            \"p_value\": p_value}"
   ]
  },
  {
   "cell_type": "markdown",
   "metadata": {},
   "source": [
    "Проверим нулевую гипотезу об отсутствии различий между средневыборочным ARPU в группах."
   ]
  },
  {
   "cell_type": "code",
   "execution_count": 35,
   "metadata": {},
   "outputs": [],
   "source": [
    "control_arpu = df_active.query('grp == \"A\"')['rev'].fillna(0)\n",
    "test_arpu = df_active.query('grp == \"B\"')['rev'].fillna(0)"
   ]
  },
  {
   "cell_type": "code",
   "execution_count": 36,
   "metadata": {
    "scrolled": false
   },
   "outputs": [
    {
     "data": {
      "application/vnd.jupyter.widget-view+json": {
       "model_id": "93ada32192c94aa0a5ae5134ecb535e6",
       "version_major": 2,
       "version_minor": 0
      },
      "text/plain": [
       "HBox(children=(FloatProgress(value=0.0, max=2000.0), HTML(value='')))"
      ]
     },
     "metadata": {},
     "output_type": "display_data"
    },
    {
     "name": "stdout",
     "output_type": "stream",
     "text": [
      "\n"
     ]
    },
    {
     "data": {
      "image/png": "[encoded data removed]",
      "text/plain": [
       "<Figure size 1080x720 with 1 Axes>"
      ]
     },
     "metadata": {},
     "output_type": "display_data"
    }
   ],
   "source": [
    "booted_data_arpu = get_bootstrap(test_arpu, control_arpu, boot_it=2000, statistic=np.mean)"
   ]
  },
  {
   "cell_type": "code",
   "execution_count": 37,
   "metadata": {
    "scrolled": true
   },
   "outputs": [
    {
     "data": {
      "text/plain": [
       "0.039598953538180784"
      ]
     },
     "execution_count": 37,
     "metadata": {},
     "output_type": "execute_result"
    }
   ],
   "source": [
    "booted_data_arpu['p_value']"
   ]
  },
  {
   "cell_type": "code",
   "execution_count": 38,
   "metadata": {},
   "outputs": [
    {
     "data": {
      "text/html": [
       "<div>\n",
       "<style scoped>\n",
       "    .dataframe tbody tr th:only-of-type {\n",
       "        vertical-align: middle;\n",
       "    }\n",
       "\n",
       "    .dataframe tbody tr th {\n",
       "        vertical-align: top;\n",
       "    }\n",
       "\n",
       "    .dataframe thead th {\n",
       "        text-align: right;\n",
       "    }\n",
       "</style>\n",
       "<table border=\"1\" class=\"dataframe\">\n",
       "  <thead>\n",
       "    <tr style=\"text-align: right;\">\n",
       "      <th></th>\n",
       "      <th>0</th>\n",
       "    </tr>\n",
       "  </thead>\n",
       "  <tbody>\n",
       "    <tr>\n",
       "      <th>0.025</th>\n",
       "      <td>0.243963</td>\n",
       "    </tr>\n",
       "    <tr>\n",
       "      <th>0.975</th>\n",
       "      <td>20.959728</td>\n",
       "    </tr>\n",
       "  </tbody>\n",
       "</table>\n",
       "</div>"
      ],
      "text/plain": [
       "               0\n",
       "0.025   0.243963\n",
       "0.975  20.959728"
      ]
     },
     "execution_count": 38,
     "metadata": {},
     "output_type": "execute_result"
    }
   ],
   "source": [
    "booted_data_arpu['ci']"
   ]
  },
  {
   "cell_type": "code",
   "execution_count": 39,
   "metadata": {},
   "outputs": [
    {
     "data": {
      "text/plain": [
       "10.691246583360284"
      ]
     },
     "execution_count": 39,
     "metadata": {},
     "output_type": "execute_result"
    }
   ],
   "source": [
    "np.mean(booted_data_arpu['boot_data'])"
   ]
  },
  {
   "cell_type": "markdown",
   "metadata": {},
   "source": [
    "На заданном уровне значимости (0.05) утверждаем, что наблюдаются статистически значимые различия между средневыборочным ARPU в тестовой и контрольной группе, вывод:\n",
    "\n",
    "- ARPU в тестовой группе значимо выше в среднем на 10.8 ед. (доверительный интервал [1:20.9])"
   ]
  },
  {
   "cell_type": "markdown",
   "metadata": {},
   "source": [
    "Аналогично проанализируем ARPPU"
   ]
  },
  {
   "cell_type": "code",
   "execution_count": 40,
   "metadata": {},
   "outputs": [
    {
     "data": {
      "text/html": [
       "<div>\n",
       "<style scoped>\n",
       "    .dataframe tbody tr th:only-of-type {\n",
       "        vertical-align: middle;\n",
       "    }\n",
       "\n",
       "    .dataframe tbody tr th {\n",
       "        vertical-align: top;\n",
       "    }\n",
       "\n",
       "    .dataframe thead th {\n",
       "        text-align: right;\n",
       "    }\n",
       "</style>\n",
       "<table border=\"1\" class=\"dataframe\">\n",
       "  <thead>\n",
       "    <tr style=\"text-align: right;\">\n",
       "      <th></th>\n",
       "      <th>rev</th>\n",
       "    </tr>\n",
       "    <tr>\n",
       "      <th>grp</th>\n",
       "      <th></th>\n",
       "    </tr>\n",
       "  </thead>\n",
       "  <tbody>\n",
       "    <tr>\n",
       "      <th>A</th>\n",
       "      <td>933.589744</td>\n",
       "    </tr>\n",
       "    <tr>\n",
       "      <th>B</th>\n",
       "      <td>1257.878992</td>\n",
       "    </tr>\n",
       "  </tbody>\n",
       "</table>\n",
       "</div>"
      ],
      "text/plain": [
       "             rev\n",
       "grp             \n",
       "A     933.589744\n",
       "B    1257.878992"
      ]
     },
     "execution_count": 40,
     "metadata": {},
     "output_type": "execute_result"
    }
   ],
   "source": [
    "# ARPPU\n",
    "\n",
    "df_active.groupby('grp').agg({'rev': 'mean'})"
   ]
  },
  {
   "cell_type": "code",
   "execution_count": 41,
   "metadata": {},
   "outputs": [],
   "source": [
    "control_arppu = df_active.query('grp == \"A\"')['rev'].dropna()\n",
    "test_arppu = df_active.query('grp == \"B\"')['rev'].dropna()"
   ]
  },
  {
   "cell_type": "code",
   "execution_count": 42,
   "metadata": {},
   "outputs": [
    {
     "data": {
      "application/vnd.jupyter.widget-view+json": {
       "model_id": "ba6c066effde4fdea5c39b43772d7da7",
       "version_major": 2,
       "version_minor": 0
      },
      "text/plain": [
       "HBox(children=(FloatProgress(value=0.0, max=2000.0), HTML(value='')))"
      ]
     },
     "metadata": {},
     "output_type": "display_data"
    },
    {
     "name": "stdout",
     "output_type": "stream",
     "text": [
      "\n"
     ]
    },
    {
     "data": {
      "image/png": "[encoded data removed]",
      "text/plain": [
       "<Figure size 1080x720 with 1 Axes>"
      ]
     },
     "metadata": {},
     "output_type": "display_data"
    }
   ],
   "source": [
    "booted_data_arppu = get_bootstrap(test_arppu, control_arppu, boot_it=2000, statistic=np.mean)"
   ]
  },
  {
   "cell_type": "code",
   "execution_count": 43,
   "metadata": {},
   "outputs": [
    {
     "data": {
      "text/plain": [
       "1.3997091090849462e-06"
      ]
     },
     "execution_count": 43,
     "metadata": {},
     "output_type": "execute_result"
    }
   ],
   "source": [
    "booted_data_arppu['p_value']"
   ]
  },
  {
   "cell_type": "code",
   "execution_count": 44,
   "metadata": {},
   "outputs": [
    {
     "data": {
      "text/html": [
       "<div>\n",
       "<style scoped>\n",
       "    .dataframe tbody tr th:only-of-type {\n",
       "        vertical-align: middle;\n",
       "    }\n",
       "\n",
       "    .dataframe tbody tr th {\n",
       "        vertical-align: top;\n",
       "    }\n",
       "\n",
       "    .dataframe thead th {\n",
       "        text-align: right;\n",
       "    }\n",
       "</style>\n",
       "<table border=\"1\" class=\"dataframe\">\n",
       "  <thead>\n",
       "    <tr style=\"text-align: right;\">\n",
       "      <th></th>\n",
       "      <th>0</th>\n",
       "    </tr>\n",
       "  </thead>\n",
       "  <tbody>\n",
       "    <tr>\n",
       "      <th>0.025</th>\n",
       "      <td>188.134087</td>\n",
       "    </tr>\n",
       "    <tr>\n",
       "      <th>0.975</th>\n",
       "      <td>453.883688</td>\n",
       "    </tr>\n",
       "  </tbody>\n",
       "</table>\n",
       "</div>"
      ],
      "text/plain": [
       "                0\n",
       "0.025  188.134087\n",
       "0.975  453.883688"
      ]
     },
     "execution_count": 44,
     "metadata": {},
     "output_type": "execute_result"
    }
   ],
   "source": [
    "booted_data_arppu['ci']"
   ]
  },
  {
   "cell_type": "code",
   "execution_count": 45,
   "metadata": {},
   "outputs": [
    {
     "data": {
      "text/plain": [
       "323.8955191046179"
      ]
     },
     "execution_count": 45,
     "metadata": {},
     "output_type": "execute_result"
    }
   ],
   "source": [
    "np.mean(booted_data_arppu['boot_data'])"
   ]
  },
  {
   "cell_type": "markdown",
   "metadata": {},
   "source": [
    "На заданном уровне значимости (0.05) утверждаем, что наблюдаются статистически значимые различия между средневыборочным ARPPU в тестовой и контрольной группе, вывод: \n",
    "\n",
    "- ARPPU в тестовой группе значимо выше контрольной в среднем на 324 ед. (доверительный интервал [190:455])"
   ]
  },
  {
   "cell_type": "markdown",
   "metadata": {},
   "source": [
    "Так как мы имеем образовательный продукт, в котором очевидно наблюдается сезонность и различная стоимость образовательных программ, то увеличение ARPU и ARPPU может быть связано с некорректно работающим механизмом сплитования, в результате которого в тестовую группу чаще попадали студенты, покупающие более дорогие курсы. Если данные метрики важны с точки зрения дизайна эксперимента, то рекомендуется проверить систему сплитования на предмет балансировки указанных метрик.\n",
    "\n",
    "Также возможно из-за сезонности (начало определенных курсов) наблюдается и дисбаланс в группах. В этом случае рекомендуется продлить эксперимент."
   ]
  },
  {
   "cell_type": "markdown",
   "metadata": {},
   "source": [
    "Общий вывод (с учетом ранее сделанных предположений):\n",
    "1. Результаты эксперимента не могут быть приняты, так как не соблюдено корректное разбиение пользователей на группы.\n",
    "2. Необходимо проверить корректность работы новой механики оплаты, так как в тестовой группе наблюдаются значения оплаты с дробной частью \".0001\". Если будут внесены существенные изменения, то рекомендуется перезапустить A/B тест.\n",
    "3. Не обнаружено значимого различия в конверсиях между группами.\n",
    "4. ARPU и ARPPU в тестовой группе значимо увеличились.\n",
    "5. В случае, если п.2 не требует перезапуска A/B теста, то рекомендуется продлить эксперимент до получения заданных параметров разбиения пользователей на группы."
   ]
  },
  {
   "attachments": {
    "photo_2022-05-04_15-23-59_1.jpg": {
     "image/jpeg": "[encoded data removed]"
    }
   },
   "cell_type": "markdown",
   "metadata": {},
   "source": [
    "![photo_2022-05-04_15-23-59_1.jpg](attachment:photo_2022-05-04_15-23-59_1.jpg)"
   ]
  },
  {
   "cell_type": "code",
   "execution_count": null,
   "metadata": {},
   "outputs": [],
   "source": []
  },
  {
   "cell_type": "markdown",
   "metadata": {},
   "source": [
    "Задание 2"
   ]
  },
  {
   "cell_type": "markdown",
   "metadata": {},
   "source": [
    "2.1 Образовательные курсы состоят из различных уроков, каждый из которых состоит из нескольких маленьких заданий. Каждое такое маленькое задание называется \"горошиной\".\n",
    "\n",
    "Назовём очень усердным учеником того пользователя, который хотя бы раз за текущий месяц правильно решил 20 горошин за час.\n",
    "\n",
    "Необходимо написать оптимальный запрос, который даст информацию о количестве очень усердных студентов за март 2020 года.\n",
    "\n",
    "Также в задании сделана следующая противоречивая заметка: \"NB! Под усердным студентом мы понимаем студента, который правильно решил 20 задач за текущий месяц.\" Противоречива она потому, что в основном тексте задания запрашивают \"очень усердных\", а заметка говорит об \"усердных\". Предполагаем, что это две разные сущности, поэтому заметку пропускаем."
   ]
  },
  {
   "cell_type": "code",
   "execution_count": null,
   "metadata": {},
   "outputs": [],
   "source": [
    "# -- Задание 2.1\n",
    "# -- Тестировалось в redash (postgres)\n",
    "\n",
    "# SELECT\n",
    "#     count(st_id)\n",
    "#     FROM\n",
    "#         (\n",
    "#         SELECT\n",
    "#             a.st_id AS st_id,\n",
    "#             max(a.sum) AS peas_count\n",
    "#         FROM\n",
    "#             (\n",
    "#             SELECT \n",
    "#                 st_id,\n",
    "#                 sum(correct) OVER w\n",
    "#             FROM peas\n",
    "#             where \n",
    "#                     timest >= '01/03/20 00:00' \n",
    "#                 AND timest <= '31/03/20 23:59'\n",
    "#             WINDOW w AS\n",
    "#                 (\n",
    "#                 PARTITION BY st_id\n",
    "#                 ORDER BY timest ASC\n",
    "#                 RANGE BETWEEN CURRENT ROW AND '1 hour' FOLLOWING\n",
    "#                 )\n",
    "#             ) a\n",
    "#         GROUP BY st_id\n",
    "#         HAVING max(a.sum) >= 20\n",
    "#         ) b"
   ]
  },
  {
   "cell_type": "markdown",
   "metadata": {},
   "source": []
  },
  {
   "cell_type": "markdown",
   "metadata": {},
   "source": [
    "2.2 Необходимо в одном запросе выгрузить следующую информацию о группах пользователей:\n",
    "\n",
    "ARPU \n",
    "ARPAU \n",
    "CR в покупку \n",
    "СR активного пользователя в покупку \n",
    "CR пользователя из активности по математике (subject = ’math’) в покупку курса по математике"
   ]
  },
  {
   "cell_type": "code",
   "execution_count": null,
   "metadata": {},
   "outputs": [],
   "source": [
    "# -- Задание 2.2\n",
    "# -- Тестировалось в redash (postgres)\n",
    "# -- Считаем, что таблица peas содержит наблюдения за время проведения эксперимента\n",
    "# -- В случае, если в peas будут лежать логи за все время, то их легко ограничить нужными датами по аналогии с предыдущим заданием, добавив в select from peas блок where с нужными датами\n",
    "# -- Аналогично с покупками, считаем, что в checks данные за время эксперимента, иначе достаточно добавить в соответсвующие select'ы  блок where с нужными датами\n",
    "\n",
    "# SELECT\n",
    "#     data.test_grp,\n",
    "#     SUM(data.money)/COUNT(data.st_id) AS ARPU,\n",
    "#     SUM(data.money)/SUM(data.active) AS ARPAU,\n",
    "#     CAST(SUM(data.converted) AS float)/CAST(COUNT(data.st_id) AS float) AS CR,\n",
    "#     CAST(SUM(data.converted) AS float)/CAST(COUNT(data.active) AS float) AS CR_active,\n",
    "#     CAST(SUM(data.converted_math) AS float)/CAST(COUNT(data.active_math) AS float) AS CR_math\n",
    "# FROM\n",
    "#     (\n",
    "#     SELECT\n",
    "#         studs.st_id AS st_id,\n",
    "#         studs.test_grp AS test_grp,\n",
    "#         checks.money AS money,\n",
    "#         checks.converted AS converted,\n",
    "#         peas.active AS active,\n",
    "#         checks_math.converted_math converted_math,\n",
    "#         peas_math.active_math AS active_math\n",
    "#     FROM\n",
    "#         studs AS studs\n",
    "#     LEFT JOIN\n",
    "#         (\n",
    "#         SELECT\n",
    "#             st_id,\n",
    "#             SUM(money) AS money,\n",
    "#             1 AS converted\n",
    "#         FROM\n",
    "#             checks\n",
    "#         GROUP BY\n",
    "#             st_id\n",
    "#         ) AS checks\n",
    "#     ON\n",
    "#         studs.st_id = checks.st_id\n",
    "#     LEFT JOIN\n",
    "#         (\n",
    "#         SELECT\n",
    "#             DISTINCT(st_id),\n",
    "#             1 AS active\n",
    "#         FROM\n",
    "#             peas\n",
    "#         ) AS peas\n",
    "#     ON\n",
    "#         studs.st_id = peas.st_id\n",
    "#     LEFT JOIN\n",
    "#         (\n",
    "#         SELECT\n",
    "#             DISTINCT(st_id),\n",
    "#             1 AS active_math\n",
    "#         FROM\n",
    "#             peas\n",
    "#         WHERE\n",
    "#             subject = 'math'\n",
    "#         ) AS peas_math\n",
    "#     ON\n",
    "#         studs.st_id = peas_math.st_id\n",
    "#     LEFT JOIN\n",
    "#         (\n",
    "#         SELECT\n",
    "#             DISTINCT(st_id),\n",
    "#             1 AS converted_math\n",
    "#         FROM\n",
    "#             checks\n",
    "#         WHERE\n",
    "#             subject = 'math'\n",
    "#         ) AS checks_math\n",
    "#     ON\n",
    "#         studs.st_id = checks_math.st_id\n",
    "#     ) AS data\n",
    "# GROUP BY\n",
    "#     data.test_grp\n"
   ]
  },
  {
   "cell_type": "code",
   "execution_count": null,
   "metadata": {},
   "outputs": [],
   "source": []
  },
  {
   "cell_type": "code",
   "execution_count": null,
   "metadata": {},
   "outputs": [],
   "source": []
  },
  {
   "cell_type": "markdown",
   "metadata": {},
   "source": [
    "Задание 3\n",
    "\n",
    "Реализуйте функцию, которая будет автоматически подгружать информацию из дополнительного файла groups_add.csv (заголовки могут отличаться) и на основании дополнительных параметров пересчитывать метрики.\n",
    "Реализуйте функцию, которая будет строить графики по получаемым метрикам."
   ]
  },
  {
   "cell_type": "markdown",
   "metadata": {},
   "source": [
    "Неоднозначная фраза в задании: \"на основании дополнительных параметров пересчитывать метрики\". Параметр для функции - это аргумент, который функция получает на вход. Звучит логично, чтобы после загрузки новых данных метрики всегда пересчитывались, а не только когда явно задан параметр. Поэтому будем считать, что \"дополнительные параметры\" - это параметры не функции, а параметры расчета метрик (число студентов в группах)."
   ]
  },
  {
   "cell_type": "code",
   "execution_count": 46,
   "metadata": {},
   "outputs": [],
   "source": [
    "def group_add(\n",
    "    file = 'group_add.csv',   # Файл для загрузки\n",
    "    sep = ',',                # Разделитель в csv файле\n",
    "    main_df = groups,         # Основной датафрейм, к которолму будем добавлять данные\n",
    "    recalculate = True,       # Флаг необходимостри перерасчета метрик\n",
    "    id_column = -1,           # Номер колонки с индексом\n",
    "    a_part = 0.2,             # Доля группы А в эксперименте\n",
    "    alpha_srm = 0.001,         # Уровень значимости для проверки на Sample Raio Mismatch\n",
    "    alpha_metrics = 0.05       # Уровень значимости для проверки гипотез по метрикам\n",
    "):\n",
    "    \n",
    "    # Проверим доступность файла\n",
    "    try:\n",
    "        df_groups_add = pd.read_csv(file, sep=sep)\n",
    "    except FileNotFoundError:\n",
    "        print('File {} not found'.format(file))\n",
    "        return\n",
    "    \n",
    "    # Проверим корректность задания уровней значимости\n",
    "    if alpha_srm > 1 or alpha_srm < 0:\n",
    "        print('Error in alpha_srm. Expected value in range [0.0 : 1.0]. Aborting process.')\n",
    "        return\n",
    "    if alpha_metrics > 1 or alpha_metrics < 0:\n",
    "        print('Error in alpha_metrics. Expected value in range [0.0 : 1.0]. Aborting process.')\n",
    "        return\n",
    "\n",
    "    # Проверим структуру файла    \n",
    "    # Если колонок не 2, значит передан файл с некорректной структурой\n",
    "    if df_groups_add.shape[1] != 2:             \n",
    "        print('File should contain 2 columns, import aborted.')\n",
    "        return\n",
    "    \n",
    "    df_groups_add = df_groups_add.dropna()  # Удалим пропуски в данных\n",
    "\n",
    "    # Найдем номер колонки с id, исходя из предположения, что id имеют тип int\n",
    "    # Может быть конечно в будущем id вдруг станут не int, для этого предусмотрено ручное задание номера колонки\n",
    "    # в параметрах функции\n",
    "    try:\n",
    "        int(id_column)\n",
    "    except ValueError:\n",
    "        id_column = -1\n",
    "        \n",
    "    group_column = -1\n",
    "    \n",
    "    if id_column < 0 or id_column > 1:\n",
    "        try:\n",
    "            int(df_groups_add.loc[0][0])\n",
    "            id_column = 0\n",
    "            group_column = 1\n",
    "        except ValueError:\n",
    "            try:\n",
    "                int(df_groups_add.loc[0][1])\n",
    "                id_column = 1\n",
    "                group_column = 0\n",
    "            except ValueError:\n",
    "                print('ID column not found. Should contain ID column of INT type. Import aborted.')\n",
    "                return\n",
    "    elif id_column == 0:\n",
    "            group_column = 1\n",
    "    elif id_column == 1:\n",
    "            group_column = 0\n",
    "    else:\n",
    "        if group_column == -1:\n",
    "            print('Luke, I am your father.')\n",
    "        print('Unpredictable error.')\n",
    "        return\n",
    "    \n",
    "    groups_ok = True   # Флаг проверки корректного наименования групп в наблюдениях  \n",
    "    bad_values = []    # Список с некорректными значениями наименований групп\n",
    "    valid_group_names = ['A', 'B', 'А', 'В', 'a', 'b', 'control', 'test']\n",
    "\n",
    "    for group_name in df_groups_add.loc[:, df_groups_add.columns[group_column]].unique():\n",
    "        if group_name not in valid_group_names:\n",
    "            groups_ok = False\n",
    "            bad_values.append(group_name)\n",
    "\n",
    "    # Получим название колонки с группами\n",
    "    group_column_name = df_groups_add.columns[group_column]\n",
    "\n",
    "    if groups_ok == False:\n",
    "        removed = 0               \n",
    "        n = 0\n",
    "        n = df_groups_add.shape[0]\n",
    "        df_groups_add = df_groups_add[~df_groups_add[group_column_name].isin(bad_values)]\n",
    "        removed = n - df_groups_add.shape[0]\n",
    "        print('Removed {} rows with incorrect group names: {}.'.format(removed, bad_values))\n",
    "\n",
    "    # Словарь для приведения наименования групп к единообразию (включая русские символы А и В)\n",
    "    map_names = {'A': 'A', 'А': 'A', 'a': 'A', 'control': 'A', 'В': 'B', 'B': 'B', 'b': 'B', 'test': 'B'}\n",
    "    df_groups_add[group_column_name] = df_groups_add[group_column_name].map(map_names)\n",
    "\n",
    "    # Установим порядок колонок в соответствии с исходным датафреймом: [id, grp]\n",
    "    df_groups_add = df_groups_add[[df_groups_add.columns[id_column], \n",
    "                                   df_groups_add.columns[group_column]]]\n",
    "    \n",
    "    # Установим названия колонок в соответствии с исходным датафреймом: [id, grp]\n",
    "    df_groups_add.columns = main_df.columns\n",
    "    \n",
    "    # Соединим датафреймы и переиндексируем\n",
    "    df = pd.concat([main_df, df_groups_add], ignore_index=True)\n",
    "    \n",
    "    # Удалим дубли, на случай если будет загружаться один и тот же файл\n",
    "    df = df.drop_duplicates()\n",
    "    \n",
    "    # Пересчитаем метрики\n",
    "    # Объединим с остальными датафреймами      \n",
    "    active_studs = pd.read_csv('https://getfile.dokpub.com/yandex/get/https://disk.yandex.ru/d/prbgU-rZpiXVYg')\n",
    "    checks = pd.read_csv('https://getfile.dokpub.com/yandex/get/https://disk.yandex.ru/d/84hTmELphW2sqQ', sep=';')\n",
    "\n",
    "#     active_studs = pd.read_csv('active_studs.csv')\n",
    "#     checks = pd.read_csv('checks.csv', sep=';')\n",
    "    \n",
    "    # Возвращать будем уже объединенный датафрейм\n",
    "    df_total = df.merge(active_studs, how='inner', left_on='id', right_on='student_id') \\\n",
    "                 .merge(checks, how='left', on='student_id') \\\n",
    "                 .drop(columns=['student_id'])\n",
    "    df_total['converted'] = ~df_total.rev.isna()\n",
    "    \n",
    "    # Проверка на SRM по аналогии с 1-м заданием\n",
    "    observed_studs = df_total.shape[0]\n",
    "    observed = [df_total.grp.value_counts()['A'],\n",
    "                df_total.grp.value_counts()['B']]\n",
    "    expected = [int(round(observed_studs*a_part)), observed_studs-int(round(observed_studs*a_part))]\n",
    "    pvalue_srm = chisquare(f_obs=observed, f_exp=expected)[1]\n",
    "    if pvalue_srm < alpha_srm:\n",
    "        print('Warning! SRM detected on significance level {}, pvalue = {}'.format(alpha_srm, pvalue_srm))\n",
    "    else:\n",
    "        print('No SRM detected on significance level {}, pvalue = {}'.format(alpha_srm, pvalue_srm))\n",
    "            \n",
    "    metrics = df_total.groupby('grp').agg({'converted': lambda x: sum(x)/len(x),\n",
    "                                           'rev': [lambda x: round(sum(x.fillna(0))/len(x), 2),\n",
    "                                                   lambda x: round(sum(x.dropna())/len(x.dropna()), 2)]})\n",
    "    # Избавимся от лишнего уровня в названиях колонок и переименуем их\n",
    "    metrics.columns = metrics.columns.get_level_values(1)\n",
    "    metrics = metrics.rename(columns={'<lambda>': 'CR', '<lambda_0>': 'ARPU', '<lambda_1>': 'ARPPU'})\n",
    "    metrics['SRM'] = [pvalue_srm, pvalue_srm]\n",
    "    \n",
    "    pvals_df = pd.DataFrame()\n",
    "    if recalculate:\n",
    "        # Пересчитаем CR\n",
    "        p_CR = chi2_contingency(pd.crosstab(df_total.converted, df_total.grp), correction=False)[1]\n",
    "            \n",
    "        # Пересчитаем ARPU\n",
    "        control_arpu = df_total.query('grp == \"A\"')['rev'].fillna(0)\n",
    "        test_arpu = df_total.query('grp == \"B\"')['rev'].fillna(0)\n",
    "        booted_data_arpu = get_bootstrap(test_arpu, control_arpu, boot_it=2000, statistic=np.mean, plot=False)\n",
    "        \n",
    "        # Пересчитаем ARPPU\n",
    "        control_arppu = df_total.query('grp == \"A\"')['rev'].dropna()\n",
    "        test_arppu = df_total.query('grp == \"B\"')['rev'].dropna()\n",
    "        booted_data_arppu = get_bootstrap(test_arppu, control_arppu, boot_it=2000, statistic=np.mean, plot=False)\n",
    "        \n",
    "        # Вернем значения p-value по метрикам для вывода \"прокрасов\", не очень красиво, но пока так\n",
    "        # Каждое значение - это список из p-value и разницы в метрике между группами\n",
    "        # По сочетанию p-value и разницы красим ячейку в:\n",
    "        # зеленый - если разница стат-значима и метрика увеличилась\n",
    "        # красный - если разница стат-значима и метрика уменьшилась\n",
    "        # серый - если разница не стат-значима\n",
    "        pvals_df = pd.DataFrame({\n",
    "            'p_value, diff': [[pvalue_srm, pvalue_srm - alpha_srm], \n",
    "                              [p_CR, metrics['CR'].loc['B'] - metrics['CR'].loc['A']], \n",
    "                              [booted_data_arpu['p_value'], metrics['ARPU'].loc['B'] - metrics['ARPU'].loc['A']], \n",
    "                              [booted_data_arppu['p_value'], metrics['ARPPU'].loc['B'] - metrics['ARPPU'].loc['A']]]},\n",
    "             index=['SRM', 'CR', 'ARPU', 'ARPPU'])\n",
    "        \n",
    "        # Функция для реализации логики прокраса ячейки\n",
    "        def apply_color(val):\n",
    "            if (val[0] < alpha_metrics) and (val[1] < 0):\n",
    "                color = 'red' \n",
    "            elif (val[0] < alpha_metrics) and (val[1] > 0):\n",
    "                color = 'green'\n",
    "            else: \n",
    "                color = 'gray'\n",
    "            return 'background-color: %s' % color\n",
    "        \n",
    "        # Для SRM отдельная логика, так как отличается p-уровень значимости\n",
    "        pvals_df = pvals_df.style.applymap(apply_color) \\\n",
    "            .applymap(lambda x: \"background-color: red\" if x[0]<alpha_srm else \"background-color: green\", \n",
    "                      subset=(slice('SRM')))\n",
    "    \n",
    "    return df, df_total, metrics, pvals_df"
   ]
  },
  {
   "cell_type": "markdown",
   "metadata": {},
   "source": [
    "Проверка работы функции"
   ]
  },
  {
   "cell_type": "code",
   "execution_count": 53,
   "metadata": {},
   "outputs": [],
   "source": [
    "groups_1 = pd.read_csv('https://getfile.dokpub.com/yandex/get/https://disk.yandex.ru/d/58Us0DWOzuWAjg', sep=';')\n",
    "# groups_1 = pd.read_csv('groups.csv', sep=';')"
   ]
  },
  {
   "cell_type": "code",
   "execution_count": 54,
   "metadata": {},
   "outputs": [
    {
     "name": "stdout",
     "output_type": "stream",
     "text": [
      "Warning! SRM detected on significance level 0.001, pvalue = 0.0003726664655524767\n"
     ]
    }
   ],
   "source": [
    "df, df_total, metrics, pvals_df = group_add(main_df = groups_1)"
   ]
  },
  {
   "cell_type": "code",
   "execution_count": 55,
   "metadata": {},
   "outputs": [
    {
     "data": {
      "text/html": [
       "<style  type=\"text/css\" >\n",
       "#T_5ac59f06_cbe9_11ec_bdbb_96000040dfb6row0_col0{\n",
       "            background-color:  red;\n",
       "            background-color:  red;\n",
       "        }#T_5ac59f06_cbe9_11ec_bdbb_96000040dfb6row1_col0{\n",
       "            background-color:  gray;\n",
       "        }#T_5ac59f06_cbe9_11ec_bdbb_96000040dfb6row2_col0,#T_5ac59f06_cbe9_11ec_bdbb_96000040dfb6row3_col0{\n",
       "            background-color:  green;\n",
       "        }</style><table id=\"T_5ac59f06_cbe9_11ec_bdbb_96000040dfb6\" ><thead>    <tr>        <th class=\"blank level0\" ></th>        <th class=\"col_heading level0 col0\" >p_value, diff</th>    </tr></thead><tbody>\n",
       "                <tr>\n",
       "                        <th id=\"T_5ac59f06_cbe9_11ec_bdbb_96000040dfb6level0_row0\" class=\"row_heading level0 row0\" >SRM</th>\n",
       "                        <td id=\"T_5ac59f06_cbe9_11ec_bdbb_96000040dfb6row0_col0\" class=\"data row0 col0\" >[0.0003726664655524767, -0.0006273335344475233]</td>\n",
       "            </tr>\n",
       "            <tr>\n",
       "                        <th id=\"T_5ac59f06_cbe9_11ec_bdbb_96000040dfb6level0_row1\" class=\"row_heading level0 row1\" >CR</th>\n",
       "                        <td id=\"T_5ac59f06_cbe9_11ec_bdbb_96000040dfb6row1_col0\" class=\"data row1 col0\" >[0.44547028437158964, -0.004559106964780894]</td>\n",
       "            </tr>\n",
       "            <tr>\n",
       "                        <th id=\"T_5ac59f06_cbe9_11ec_bdbb_96000040dfb6level0_row2\" class=\"row_heading level0 row2\" >ARPU</th>\n",
       "                        <td id=\"T_5ac59f06_cbe9_11ec_bdbb_96000040dfb6row2_col0\" class=\"data row2 col0\" >[0.04039704348048563, 10.71]</td>\n",
       "            </tr>\n",
       "            <tr>\n",
       "                        <th id=\"T_5ac59f06_cbe9_11ec_bdbb_96000040dfb6level0_row3\" class=\"row_heading level0 row3\" >ARPPU</th>\n",
       "                        <td id=\"T_5ac59f06_cbe9_11ec_bdbb_96000040dfb6row3_col0\" class=\"data row3 col0\" >[1.6115159584775108e-06, 324.2900000000001]</td>\n",
       "            </tr>\n",
       "    </tbody></table>"
      ],
      "text/plain": [
       "<pandas.io.formats.style.Styler at 0x7f51c471abe0>"
      ]
     },
     "execution_count": 55,
     "metadata": {},
     "output_type": "execute_result"
    }
   ],
   "source": [
    "pvals_df"
   ]
  },
  {
   "cell_type": "code",
   "execution_count": null,
   "metadata": {},
   "outputs": [],
   "source": []
  },
  {
   "cell_type": "markdown",
   "metadata": {},
   "source": [
    "Функция построения графиков"
   ]
  },
  {
   "cell_type": "code",
   "execution_count": 135,
   "metadata": {},
   "outputs": [],
   "source": [
    "def plot_metrics(\n",
    "    df_total = df_total,\n",
    "    df_metrics = metrics,\n",
    "    CR = True,\n",
    "    ARPU = True,\n",
    "    ARPPU = True\n",
    "):\n",
    "    \n",
    "    fig, axes = plt.subplots(2, 2)\n",
    "    \n",
    "    if CR:\n",
    "        sns.barplot(x=metrics[\"grp\"], y=metrics[\"CR\"], ax=axes[0,0])\n",
    "            \n",
    "    if ARPU:\n",
    "        sns.pointplot(x=\"grp\", y=\"rev\", data=df_total.fillna(0), ax=axes[0,1])\n",
    "        sns.boxplot(x=\"grp\", y=\"rev\", data=df_total, ax=axes[1,0])\n",
    "    \n",
    "    if ARPPU:\n",
    "        sns.pointplot(x=\"grp\", y=\"rev\", data=df_active, ax=axes[1,1])\n",
    "    \n",
    "    return "
   ]
  },
  {
   "cell_type": "code",
   "execution_count": 136,
   "metadata": {
    "scrolled": false
   },
   "outputs": [
    {
     "data": {
      "image/png": "[encoded data removed]",
      "text/plain": [
       "<Figure size 1080x720 with 4 Axes>"
      ]
     },
     "metadata": {},
     "output_type": "display_data"
    }
   ],
   "source": [
    "plot_metrics(df_total   = df_total, \n",
    "             df_metrics = metrics)"
   ]
  },
  {
   "cell_type": "code",
   "execution_count": null,
   "metadata": {},
   "outputs": [],
   "source": []
  },
  {
   "cell_type": "code",
   "execution_count": null,
   "metadata": {},
   "outputs": [],
   "source": []
  },
  {
   "cell_type": "code",
   "execution_count": null,
   "metadata": {},
   "outputs": [],
   "source": []
  },
  {
   "cell_type": "code",
   "execution_count": null,
   "metadata": {},
   "outputs": [],
   "source": []
  }
 ],
 "metadata": {
  "kernelspec": {
   "display_name": "Python 3",
   "language": "python",
   "name": "python3"
  },
  "language_info": {
   "codemirror_mode": {
    "name": "ipython",
    "version": 3
   },
   "file_extension": ".py",
   "mimetype": "text/x-python",
   "name": "python",
   "nbconvert_exporter": "python",
   "pygments_lexer": "ipython3",
   "version": "3.7.3"
  }
 },
 "nbformat": 4,
 "nbformat_minor": 4
}
